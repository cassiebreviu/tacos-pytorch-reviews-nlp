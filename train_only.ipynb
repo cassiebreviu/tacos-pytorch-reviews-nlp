{
  "cells": [
    {
      "cell_type": "code",
      "source": [
        "from azureml.core import Workspace, Experiment, ScriptRunConfig, Environment, Dataset, Datastore, ComputeTarget, ScriptRunConfig\r\n",
        "import os\r\n",
        "import azureml.core\r\n",
        "from azureml.pipeline.steps import PythonScriptStep,EstimatorStep\r\n",
        "from azureml.pipeline.core import Pipeline\r\n",
        "from azureml.data import OutputFileDatasetConfig\r\n",
        "import pandas as pd\r\n",
        "from azureml.data.datapath import DataPath\r\n",
        "import azureml.mlflow\r\n",
        "import mlflow\r\n",
        "from azureml.train.dnn import PyTorch\r\n",
        "# check core SDK version number\r\n",
        "print(\"Azure ML SDK Version: \", azureml.core.VERSION)"
      ],
      "outputs": [
        {
          "output_type": "stream",
          "name": "stdout",
          "text": [
            "Azure ML SDK Version:  1.20.0\n"
          ]
        }
      ],
      "execution_count": 1,
      "metadata": {
        "gather": {
          "logged": 1612765745162
        }
      }
    },
    {
      "cell_type": "code",
      "source": [
        "# get workspace\r\n",
        "workspace = Workspace.from_config()\r\n",
        "workspace"
      ],
      "outputs": [
        {
          "output_type": "execute_result",
          "execution_count": 2,
          "data": {
            "text/plain": "Workspace.create(name='hal', subscription_id='91d27443-f037-45d9-bb0c-428256992df6', resource_group='robots')"
          },
          "metadata": {}
        }
      ],
      "execution_count": 2,
      "metadata": {
        "collapsed": true,
        "jupyter": {
          "source_hidden": false,
          "outputs_hidden": false
        },
        "nteract": {
          "transient": {
            "deleting": false
          }
        },
        "gather": {
          "logged": 1612765746418
        }
      }
    },
    {
      "cell_type": "code",
      "source": [
        "# get compute target\r\n",
        "compute_target = workspace.compute_targets['gandalf']"
      ],
      "outputs": [],
      "execution_count": 3,
      "metadata": {
        "collapsed": true,
        "jupyter": {
          "source_hidden": false,
          "outputs_hidden": false
        },
        "nteract": {
          "transient": {
            "deleting": false
          }
        },
        "gather": {
          "logged": 1612765746558
        }
      }
    },
    {
      "cell_type": "code",
      "source": [
        "%%writefile conda_dependencies.yml\r\n",
        "\r\n",
        "dependencies:\r\n",
        "- python=3.6.8\r\n",
        "- pip:\r\n",
        "  - azureml-core==1.18.0.post1\r\n",
        "  - azureml-defaults==1.18.0\r\n",
        "  - azureml-telemetry==1.18.0\r\n",
        "  - azureml-train-restclients-hyperdrive==1.18.0\r\n",
        "  - azureml-train-core==1.18.0\r\n",
        "  - cmake\r\n",
        "  - torch\r\n",
        "  - mkl\r\n",
        "  - future\r\n",
        "  - numpy\r\n",
        "  - scikit-learn\r\n",
        "  - pandas\r\n",
        "  - matplotlib\r\n",
        "  - torchtext\r\n",
        "  - azureml-mlflow\r\n",
        "  - mlflow\r\n",
        "  - azureml-contrib-fairness\r\n",
        "  - fairlearn"
      ],
      "outputs": [
        {
          "output_type": "stream",
          "name": "stdout",
          "text": [
            "Overwriting conda_dependencies.yml\n"
          ]
        }
      ],
      "execution_count": 4,
      "metadata": {
        "collapsed": true,
        "jupyter": {
          "source_hidden": false,
          "outputs_hidden": false
        },
        "nteract": {
          "transient": {
            "deleting": false
          }
        }
      }
    },
    {
      "cell_type": "code",
      "source": [
        "# From a Conda specification file\r\n",
        "env = Environment.from_conda_specification(name = \"PyTorch-NLP-GPU-V1\",\r\n",
        "                                             file_path = \"conda_dependencies.yml\")"
      ],
      "outputs": [],
      "execution_count": 5,
      "metadata": {
        "collapsed": true,
        "jupyter": {
          "source_hidden": false,
          "outputs_hidden": false
        },
        "nteract": {
          "transient": {
            "deleting": false
          }
        },
        "gather": {
          "logged": 1612765746743
        }
      }
    },
    {
      "cell_type": "code",
      "source": [
        "# get reviews datastore (where all the output datasets will live)\r\n",
        "datastore = Datastore.get(workspace, 'tacoreviews')\r\n",
        "datastore"
      ],
      "outputs": [
        {
          "output_type": "execute_result",
          "execution_count": 6,
          "data": {
            "text/plain": "{\n  \"name\": \"tacoreviews\",\n  \"container_name\": \"tacoreviews\",\n  \"account_name\": \"haldatasets\",\n  \"protocol\": \"https\",\n  \"endpoint\": \"core.windows.net\"\n}"
          },
          "metadata": {}
        }
      ],
      "execution_count": 6,
      "metadata": {
        "collapsed": true,
        "jupyter": {
          "source_hidden": false,
          "outputs_hidden": false
        },
        "nteract": {
          "transient": {
            "deleting": false
          }
        },
        "gather": {
          "logged": 1612765746879
        }
      }
    },
    {
      "cell_type": "code",
      "source": [
        "prepared_reviews_ds = Dataset.get_by_name(workspace, name='tacoreviewsprep', version=\"9\")\r\n",
        "prepared_reviews_ds"
      ],
      "outputs": [
        {
          "output_type": "execute_result",
          "execution_count": 7,
          "data": {
            "text/plain": "{\n  \"source\": [\n    \"('tacoreviews', 'prep/c5a19496-0bf7-485e-845e-5b42921a4448')\"\n  ],\n  \"definition\": [\n    \"GetDatastoreFiles\"\n  ],\n  \"registration\": {\n    \"id\": \"786710d3-d1aa-4ce9-aa12-01b8540593d8\",\n    \"name\": \"tacoreviewsprep\",\n    \"version\": 9,\n    \"workspace\": \"Workspace.create(name='hal', subscription_id='91d27443-f037-45d9-bb0c-428256992df6', resource_group='robots')\"\n  }\n}"
          },
          "metadata": {}
        }
      ],
      "execution_count": 7,
      "metadata": {
        "collapsed": true,
        "jupyter": {
          "source_hidden": false,
          "outputs_hidden": false
        },
        "nteract": {
          "transient": {
            "deleting": false
          }
        },
        "gather": {
          "logged": 1612765748856
        }
      }
    },
    {
      "cell_type": "code",
      "source": [
        "# Output Dataset\r\n",
        "train_ds = OutputFileDatasetConfig(destination=(datastore, 'train/{run-id}')).register_on_complete(name='tacoreviewstrain')\r\n",
        "train_ds"
      ],
      "outputs": [
        {
          "output_type": "execute_result",
          "execution_count": 8,
          "data": {
            "text/plain": "<azureml.data.output_dataset_config.OutputFileDatasetConfig at 0x7f639200a8d0>"
          },
          "metadata": {}
        }
      ],
      "execution_count": 8,
      "metadata": {
        "collapsed": true,
        "jupyter": {
          "source_hidden": false,
          "outputs_hidden": false
        },
        "nteract": {
          "transient": {
            "deleting": false
          }
        },
        "gather": {
          "logged": 1612765748978
        }
      }
    },
    {
      "cell_type": "code",
      "source": [
        "experiment_name = 'nlp-sentiment-reviews-train'\r\n",
        "src = ScriptRunConfig(\r\n",
        "    source_directory='.',\r\n",
        "    script='train.py',\r\n",
        "    arguments=[\r\n",
        "        \"--source_path\", prepared_reviews_ds.as_mount(),\r\n",
        "        \"--target_path\", train_ds,\r\n",
        "        \"--epochs\", 50,\r\n",
        "        \"--experiment_name\", experiment_name ],\r\n",
        "    compute_target=compute_target,\r\n",
        "    environment=env\r\n",
        ")"
      ],
      "outputs": [],
      "execution_count": 55,
      "metadata": {
        "collapsed": true,
        "jupyter": {
          "source_hidden": false,
          "outputs_hidden": false
        },
        "nteract": {
          "transient": {
            "deleting": false
          }
        },
        "gather": {
          "logged": 1612775632976
        }
      }
    },
    {
      "cell_type": "code",
      "source": [
        "exp = Experiment(workspace, name=experiment_name)\r\n",
        "run = exp.submit(src)\r\n",
        "run.tag(\"optimizer\", \"SGD\")\r\n",
        "run.tag(\"loss\", \"CrossEntropyLoss\")\r\n",
        "run.tag(\"lr\", 4)"
      ],
      "outputs": [
        {
          "output_type": "stream",
          "name": "stderr",
          "text": [
            "Converting non-string tag to string: (lr: 4)\n"
          ]
        }
      ],
      "execution_count": 56,
      "metadata": {
        "collapsed": true,
        "jupyter": {
          "source_hidden": false,
          "outputs_hidden": false
        },
        "nteract": {
          "transient": {
            "deleting": false
          }
        },
        "gather": {
          "logged": 1612775669707
        }
      }
    },
    {
      "cell_type": "code",
      "source": [],
      "outputs": [],
      "execution_count": null,
      "metadata": {
        "collapsed": true,
        "jupyter": {
          "source_hidden": false,
          "outputs_hidden": false
        },
        "nteract": {
          "transient": {
            "deleting": false
          }
        }
      }
    }
  ],
  "metadata": {
    "kernelspec": {
      "name": "python3-azureml",
      "language": "python",
      "display_name": "Python 3.6 - AzureML"
    },
    "language_info": {
      "name": "python",
      "version": "3.6.9",
      "mimetype": "text/x-python",
      "codemirror_mode": {
        "name": "ipython",
        "version": 3
      },
      "pygments_lexer": "ipython3",
      "nbconvert_exporter": "python",
      "file_extension": ".py"
    },
    "kernel_info": {
      "name": "python3-azureml"
    },
    "nteract": {
      "version": "nteract-front-end@1.0.0"
    }
  },
  "nbformat": 4,
  "nbformat_minor": 2
}